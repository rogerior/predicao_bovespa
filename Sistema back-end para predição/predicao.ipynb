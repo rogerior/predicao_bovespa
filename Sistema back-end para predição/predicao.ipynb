{
 "cells": [
  {
   "cell_type": "markdown",
   "metadata": {},
   "source": [
    "## Notebook para visualizar como funciona a predição"
   ]
  },
  {
   "cell_type": "code",
   "execution_count": 1,
   "metadata": {},
   "outputs": [],
   "source": [
    "import pandas as pd\n",
    "import glob\n",
    "import json\n",
    "from sklearn.externals import joblib\n",
    "from datetime import datetime, timedelta"
   ]
  },
  {
   "cell_type": "code",
   "execution_count": null,
   "metadata": {},
   "outputs": [],
   "source": []
  },
  {
   "cell_type": "code",
   "execution_count": 2,
   "metadata": {},
   "outputs": [],
   "source": [
    "# Função que recebe uma data, a quantidade de dias, e retorna uma lista com as datas seguintes de acordo com a quantidade de dias definidos.\n",
    "# Exemplo: data = 25102018, dias = 2, return = ['20181025', '20181026']\n",
    "def retornaConjuntoDeDias(data, dias):\n",
    "    data = datetime.strptime(str(data), \"%d%m%Y\")\n",
    "    datas = [datetime.strftime(data + timedelta(days=i), \"%Y%m%d\") for i in range(0,dias)]\n",
    "    return datas"
   ]
  },
  {
   "cell_type": "code",
   "execution_count": 3,
   "metadata": {},
   "outputs": [],
   "source": [
    "# Função que recebe uma lista de datas, e retorna os atributos daquela data para ser utilizado na predição\n",
    "def retornaDadosDatas(datas):\n",
    "    dimensao_data = pd.read_csv('../dados/dimensao_data_tratado.csv', sep=';')\n",
    "    dados = dimensao_data.loc[dimensao_data['DATA'].isin(datas)].copy()    \n",
    "    \n",
    "    return dados"
   ]
  },
  {
   "cell_type": "code",
   "execution_count": 4,
   "metadata": {},
   "outputs": [],
   "source": [
    "# Função que recebe uma ação, e a quantidade de técnicas (n_tecnicas) melhores que é para ser usado, \n",
    "# e retorna o local e nome dos arquivos que estão salvos o modelo\n",
    "# Exemplo: acao = 'MGEL4F', n_tecnicas = 3, return = ['../modelos/MGEL4F_AdaBoostClassifier.pkl',\n",
    "#                                                     '../modelos/MGEL4F_BaggingClassifier.pkl',\n",
    "#                                                     '../modelos/MGEL4F_RidgeClassifierCV.pkl']\n",
    "def retornaMelhoresModelos(acao, n_tecnicas):\n",
    "    resultados = pd.read_csv('../melhores_resultados_tecnicas.csv', sep=';', decimal=',')\n",
    "    melhores = resultados.loc[resultados['acao'] == acao, ['acao', 'accuracy', 'tecnica']].sort_values('accuracy', ascending=False).head(n_tecnicas)\n",
    "    tecnicas = melhores['tecnica'].values\n",
    "    pkls = []\n",
    "    for tecnica in tecnicas:\n",
    "        pkls.append('../modelos/'+acao+'_'+tecnica+'.pkl')\n",
    "    return pkls"
   ]
  },
  {
   "cell_type": "code",
   "execution_count": 5,
   "metadata": {},
   "outputs": [],
   "source": [
    "# Função que recebe o nome da ação, os dados que serão utilizados para a predição, e a quantidade de melhores técnicas que deverá ser usado, \n",
    "# realiza a predição em todas as melhores técnicas selecionadas, e retorna a predicao \n",
    "def predict(acao, dados_predicao, n_tecnicas):\n",
    "    resultado = {}\n",
    "    \n",
    "    pkls = retornaMelhoresModelos(acao, n_tecnicas)\n",
    "    for pkl in pkls:\n",
    "\n",
    "        tecnica = pkl.split('_')\n",
    "        tecnica = tecnica[1].split('.')\n",
    "        tecnica = tecnica[0]\n",
    "\n",
    "        modelo = joblib.load(pkl)\n",
    "\n",
    "        identificador = ''\n",
    "\n",
    "        for i in range(1,len(dados_predicao)+1):\n",
    "\n",
    "            dado = dados_predicao.iloc[(i-1):i].copy()\n",
    "            data = str(dado['DATA'].values[0])\n",
    "            data = datetime.strptime(data, \"%Y%m%d\")\n",
    "            data = data.strftime('%d%m%Y')\n",
    "            identificador = data + '_' + str(tecnica)\n",
    "\n",
    "            dado.drop('DATA', axis=1, inplace=True)\n",
    "            \n",
    "            predict = modelo.predict(dado)\n",
    "\n",
    "            if predict[0] == 1:\n",
    "                predict_traduzido = 'Positivo'\n",
    "            else:\n",
    "                predict_traduzido = 'Negativo'\n",
    "                predict = 0\n",
    "\n",
    "            try:\n",
    "                predict_proba = modelo.predict_proba(dado)                \n",
    "\n",
    "                predicao = predict_traduzido + ', probabilidade: ' + str( predict_proba[0][predict]*100 ) + '%'\n",
    "\n",
    "                resultado.update({identificador: predicao})\n",
    "            except AttributeError:\n",
    "\n",
    "                predicao = predict_traduzido + ', probabilidade: Não consta'\n",
    "                resultado.update({identificador: predicao})\n",
    "\n",
    "            except IndexError:\n",
    "\n",
    "                predicao = predict_traduzido + ', probabilidade: Não consta'\n",
    "                resultado.update({identificador: predicao})\n",
    "\n",
    "\n",
    "    return resultado"
   ]
  },
  {
   "cell_type": "code",
   "execution_count": 6,
   "metadata": {},
   "outputs": [],
   "source": [
    "# Função central que recebe um novo pedido de predição, realiza todas as operações necessárias, e retorna um json com a predição de acordo com os parâmetros\n",
    "def realizarPredicao(acao, data, dias, n_tecnicas):\n",
    "    datas = retornaConjuntoDeDias(data, int(dias))\n",
    "    dados_predicao = retornaDadosDatas(datas)\n",
    "    resultados = predict(acao, dados_predicao, int(n_tecnicas))\n",
    "    return json.dumps(resultados, ensure_ascii=False).encode('utf8')"
   ]
  },
  {
   "cell_type": "code",
   "execution_count": null,
   "metadata": {},
   "outputs": [],
   "source": []
  },
  {
   "cell_type": "code",
   "execution_count": 7,
   "metadata": {},
   "outputs": [],
   "source": [
    "acao = 'MGEL4F'\n",
    "data = '22102018'\n",
    "dias = 2\n",
    "n_tecnicas = 3"
   ]
  },
  {
   "cell_type": "code",
   "execution_count": 8,
   "metadata": {},
   "outputs": [
    {
     "data": {
      "text/plain": [
       "b'{\"22102018_AdaBoostClassifier\": \"Positivo, probabilidade: [ 58.09101482]%\", \"23102018_AdaBoostClassifier\": \"Positivo, probabilidade: [ 58.09101482]%\", \"22102018_BaggingClassifier\": \"Positivo, probabilidade: [ 83.36539699]%\", \"23102018_BaggingClassifier\": \"Positivo, probabilidade: [ 83.36539699]%\", \"22102018_RidgeClassifierCV\": \"Positivo, probabilidade: N\\xc3\\xa3o consta\", \"23102018_RidgeClassifierCV\": \"Positivo, probabilidade: N\\xc3\\xa3o consta\"}'"
      ]
     },
     "execution_count": 8,
     "metadata": {},
     "output_type": "execute_result"
    }
   ],
   "source": [
    "realizarPredicao(acao, data, dias, n_tecnicas)"
   ]
  }
 ],
 "metadata": {
  "kernelspec": {
   "display_name": "Python 3",
   "language": "python",
   "name": "python3"
  },
  "language_info": {
   "codemirror_mode": {
    "name": "ipython",
    "version": 3
   },
   "file_extension": ".py",
   "mimetype": "text/x-python",
   "name": "python",
   "nbconvert_exporter": "python",
   "pygments_lexer": "ipython3",
   "version": "3.6.4"
  }
 },
 "nbformat": 4,
 "nbformat_minor": 2
}

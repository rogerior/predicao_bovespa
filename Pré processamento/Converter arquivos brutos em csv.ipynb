{
 "cells": [
  {
   "cell_type": "markdown",
   "metadata": {},
   "source": [
    "### Importar bibliotecas"
   ]
  },
  {
   "cell_type": "code",
   "execution_count": 1,
   "metadata": {},
   "outputs": [],
   "source": [
    "import pandas as pd\n",
    "import os"
   ]
  },
  {
   "cell_type": "markdown",
   "metadata": {},
   "source": [
    "### Ler os arquivos de dados e transformar para formato legível e compatível com as técnicas de aprendizagem de máquina"
   ]
  },
  {
   "cell_type": "markdown",
   "metadata": {},
   "source": [
    "##### 1 - Definindo nome dos atributos e suas respectivas posições. Os dados gerados pela Bovespa não vem separados por vírgula ou algum outro tipo de separador, eles são delimitados pela posição."
   ]
  },
  {
   "cell_type": "code",
   "execution_count": 2,
   "metadata": {},
   "outputs": [],
   "source": [
    "nome_colunas = ['TIPO', 'DATA', 'CODBDI', 'CODNEG', 'TPMERC', 'NOMRES', 'ESPECI', 'PRAZOT', \n",
    "                'MODREF', 'PREABE', 'PREMAX', 'PREMIN', 'PREMED', 'PREULT', 'PREOFC', 'PREOFV', \n",
    "                'TOTNEG', 'QUATOT', 'VOLTOT', 'PREEXE', 'INDOPC', 'DATVEN', 'FATCOT', 'PTOEXE', 'CODISI', 'DISMES']\n",
    "colunas = [(0,2),(2,10),(10,12),(12,24),(24,27),(27,39),(39,49),(49,52),(52,56),\n",
    "           (56,69),(69,82),(82,95),(95,108),(108,121),(121,134),(134,147),(147,152),\n",
    "           (152,170),(170,188),(188,201),(201,202),(202,210),(210,217),(217,230),(230,242),(242,245)]"
   ]
  },
  {
   "cell_type": "markdown",
   "metadata": {},
   "source": [
    "##### 2 - Função que recebe o nome do arquivo contendo os dados, faz a leitura dele e realiza a transformação para o pandas seguindo o padrão da posição de cada atributo"
   ]
  },
  {
   "cell_type": "code",
   "execution_count": 3,
   "metadata": {},
   "outputs": [],
   "source": [
    "def converterArquivoBruto(arquivo):\n",
    "    #arquivo = 'COTAHIST_A2017.txt'\n",
    "    #arquivo = 'dados.txt'\n",
    "\n",
    "    dados = pd.read_fwf(arquivo, colspecs=colunas)\n",
    "\n",
    "    dados.columns=nome_colunas\n",
    "    \n",
    "    # removendo ultima linha do tipo 99, esta última linha apenas representa que o arquivo chegou ao fim.\n",
    "    dados = dados.iloc[:-1]\n",
    "    \n",
    "    return dados"
   ]
  },
  {
   "cell_type": "markdown",
   "metadata": {},
   "source": [
    "##### 3 - Listar e salvar o nome de todos os arquivos de dados que estão pasta"
   ]
  },
  {
   "cell_type": "code",
   "execution_count": 4,
   "metadata": {},
   "outputs": [
    {
     "data": {
      "text/plain": [
       "['COTAHIST_A1988.TXT',\n",
       " 'COTAHIST_A2008.TXT',\n",
       " 'COTAHIST_A2007.TXT',\n",
       " 'COTAHIST_A1993.TXT',\n",
       " 'COTAHIST_A1994.TXT',\n",
       " 'COTAHIST_A2018.TXT',\n",
       " 'COTAHIST_A2014.TXT',\n",
       " 'COTAHIST_A1990.TXT',\n",
       " 'COTAHIST_A2017.TXT',\n",
       " 'COTAHIST_A1996.TXT',\n",
       " 'COTAHIST_A1992.TXT',\n",
       " 'COTAHIST_A2016.TXT',\n",
       " 'COTAHIST_A2002.TXT',\n",
       " 'COTAHIST_A2015.TXT',\n",
       " 'COTAHIST_A2009.TXT',\n",
       " 'COTAHIST_A2013.TXT',\n",
       " 'COTAHIST_A1999.TXT',\n",
       " 'COTAHIST_A1989.TXT',\n",
       " 'COTAHIST_A2000.TXT',\n",
       " 'COTAHIST_A2006.TXT',\n",
       " 'COTAHIST_A2005.TXT',\n",
       " 'COTAHIST_A2011.TXT',\n",
       " 'COTAHIST_A1986.TXT',\n",
       " 'COTAHIST_A2001.TXT',\n",
       " 'COTAHIST_A2012.TXT',\n",
       " 'COTAHIST_A1998.TXT',\n",
       " 'COTAHIST_A2004.TXT',\n",
       " 'COTAHIST_A2010.TXT',\n",
       " 'COTAHIST_A1987.TXT',\n",
       " 'COTAHIST_A2003.TXT',\n",
       " 'COTAHIST_A1991.TXT',\n",
       " 'COTAHIST_A1997.TXT',\n",
       " 'COTAHIST_A1995.TXT']"
      ]
     },
     "execution_count": 4,
     "metadata": {},
     "output_type": "execute_result"
    }
   ],
   "source": [
    "arquivos = os.listdir(\"../dados/dados_brutos/\")\n",
    "\n",
    "arquivos"
   ]
  },
  {
   "cell_type": "markdown",
   "metadata": {},
   "source": [
    "##### 4 - Váriavel para receber os dados de todos os anos"
   ]
  },
  {
   "cell_type": "code",
   "execution_count": 5,
   "metadata": {},
   "outputs": [],
   "source": [
    "dados_completos = pd.DataFrame(columns=nome_colunas)"
   ]
  },
  {
   "cell_type": "markdown",
   "metadata": {},
   "source": [
    "##### 5 - Percorrer todos os arquivos que estão na pasta de dados, e enviar para a função de converter o arquivo bruto para o pandas"
   ]
  },
  {
   "cell_type": "code",
   "execution_count": 6,
   "metadata": {},
   "outputs": [
    {
     "data": {
      "text/plain": [
       "7001521"
      ]
     },
     "execution_count": 6,
     "metadata": {},
     "output_type": "execute_result"
    }
   ],
   "source": [
    "for arquivo in arquivos:\n",
    "    dados_completos = dados_completos.append(converterArquivoBruto('../dados/dados_brutos/'+arquivo))\n",
    "\n",
    "len(dados_completos)"
   ]
  },
  {
   "cell_type": "markdown",
   "metadata": {},
   "source": [
    "##### Podemos ver que o conjunto de dados possui pouco mais de **7 milhões de linhas**"
   ]
  },
  {
   "cell_type": "code",
   "execution_count": 7,
   "metadata": {},
   "outputs": [
    {
     "name": "stdout",
     "output_type": "stream",
     "text": [
      "<class 'pandas.core.frame.DataFrame'>\n",
      "Int64Index: 7001521 entries, 0 to 104790\n",
      "Data columns (total 26 columns):\n",
      "TIPO      object\n",
      "DATA      object\n",
      "CODBDI    float64\n",
      "CODNEG    object\n",
      "TPMERC    object\n",
      "NOMRES    object\n",
      "ESPECI    object\n",
      "PRAZOT    object\n",
      "MODREF    object\n",
      "PREABE    float64\n",
      "PREMAX    float64\n",
      "PREMIN    float64\n",
      "PREMED    float64\n",
      "PREULT    float64\n",
      "PREOFC    float64\n",
      "PREOFV    float64\n",
      "TOTNEG    float64\n",
      "QUATOT    float64\n",
      "VOLTOT    float64\n",
      "PREEXE    float64\n",
      "INDOPC    float64\n",
      "DATVEN    float64\n",
      "FATCOT    float64\n",
      "PTOEXE    float64\n",
      "CODISI    object\n",
      "DISMES    float64\n",
      "dtypes: float64(17), object(9)\n",
      "memory usage: 1.4+ GB\n"
     ]
    }
   ],
   "source": [
    "dados_completos.info()"
   ]
  },
  {
   "cell_type": "code",
   "execution_count": 8,
   "metadata": {},
   "outputs": [
    {
     "data": {
      "text/html": [
       "<div>\n",
       "<style scoped>\n",
       "    .dataframe tbody tr th:only-of-type {\n",
       "        vertical-align: middle;\n",
       "    }\n",
       "\n",
       "    .dataframe tbody tr th {\n",
       "        vertical-align: top;\n",
       "    }\n",
       "\n",
       "    .dataframe thead th {\n",
       "        text-align: right;\n",
       "    }\n",
       "</style>\n",
       "<table border=\"1\" class=\"dataframe\">\n",
       "  <thead>\n",
       "    <tr style=\"text-align: right;\">\n",
       "      <th></th>\n",
       "      <th>CODBDI</th>\n",
       "      <th>PREABE</th>\n",
       "      <th>PREMAX</th>\n",
       "      <th>PREMIN</th>\n",
       "      <th>PREMED</th>\n",
       "      <th>PREULT</th>\n",
       "      <th>PREOFC</th>\n",
       "      <th>PREOFV</th>\n",
       "      <th>TOTNEG</th>\n",
       "      <th>QUATOT</th>\n",
       "      <th>VOLTOT</th>\n",
       "      <th>PREEXE</th>\n",
       "      <th>INDOPC</th>\n",
       "      <th>DATVEN</th>\n",
       "      <th>FATCOT</th>\n",
       "      <th>PTOEXE</th>\n",
       "      <th>DISMES</th>\n",
       "    </tr>\n",
       "  </thead>\n",
       "  <tbody>\n",
       "    <tr>\n",
       "      <th>count</th>\n",
       "      <td>7.001521e+06</td>\n",
       "      <td>7.001521e+06</td>\n",
       "      <td>7.001521e+06</td>\n",
       "      <td>7.001521e+06</td>\n",
       "      <td>7.001521e+06</td>\n",
       "      <td>7.001521e+06</td>\n",
       "      <td>7.001521e+06</td>\n",
       "      <td>7.001521e+06</td>\n",
       "      <td>7.001521e+06</td>\n",
       "      <td>7.001521e+06</td>\n",
       "      <td>7.001521e+06</td>\n",
       "      <td>7.001521e+06</td>\n",
       "      <td>7.001521e+06</td>\n",
       "      <td>7.001521e+06</td>\n",
       "      <td>7.001521e+06</td>\n",
       "      <td>7.001521e+06</td>\n",
       "      <td>7.001521e+06</td>\n",
       "    </tr>\n",
       "    <tr>\n",
       "      <th>mean</th>\n",
       "      <td>5.235243e+01</td>\n",
       "      <td>9.456642e+04</td>\n",
       "      <td>9.643617e+04</td>\n",
       "      <td>9.360442e+04</td>\n",
       "      <td>9.530297e+04</td>\n",
       "      <td>9.535259e+04</td>\n",
       "      <td>2.404831e+04</td>\n",
       "      <td>3.698358e+04</td>\n",
       "      <td>2.877786e+02</td>\n",
       "      <td>3.254411e+07</td>\n",
       "      <td>1.015286e+10</td>\n",
       "      <td>8.830063e+04</td>\n",
       "      <td>1.038246e-02</td>\n",
       "      <td>7.893999e+07</td>\n",
       "      <td>2.593313e+02</td>\n",
       "      <td>8.648413e+08</td>\n",
       "      <td>1.376429e+02</td>\n",
       "    </tr>\n",
       "    <tr>\n",
       "      <th>std</th>\n",
       "      <td>3.921134e+01</td>\n",
       "      <td>1.298649e+07</td>\n",
       "      <td>1.300694e+07</td>\n",
       "      <td>1.298020e+07</td>\n",
       "      <td>1.300562e+07</td>\n",
       "      <td>1.299963e+07</td>\n",
       "      <td>2.095357e+06</td>\n",
       "      <td>2.653772e+07</td>\n",
       "      <td>1.820258e+03</td>\n",
       "      <td>7.757119e+08</td>\n",
       "      <td>1.119038e+12</td>\n",
       "      <td>7.131223e+05</td>\n",
       "      <td>2.530011e-01</td>\n",
       "      <td>3.518612e+07</td>\n",
       "      <td>2.063589e+03</td>\n",
       "      <td>7.039705e+09</td>\n",
       "      <td>8.376915e+01</td>\n",
       "    </tr>\n",
       "    <tr>\n",
       "      <th>min</th>\n",
       "      <td>2.000000e+00</td>\n",
       "      <td>0.000000e+00</td>\n",
       "      <td>0.000000e+00</td>\n",
       "      <td>0.000000e+00</td>\n",
       "      <td>0.000000e+00</td>\n",
       "      <td>0.000000e+00</td>\n",
       "      <td>0.000000e+00</td>\n",
       "      <td>0.000000e+00</td>\n",
       "      <td>1.000000e+00</td>\n",
       "      <td>1.000000e+00</td>\n",
       "      <td>0.000000e+00</td>\n",
       "      <td>0.000000e+00</td>\n",
       "      <td>0.000000e+00</td>\n",
       "      <td>1.986022e+07</td>\n",
       "      <td>0.000000e+00</td>\n",
       "      <td>0.000000e+00</td>\n",
       "      <td>0.000000e+00</td>\n",
       "    </tr>\n",
       "    <tr>\n",
       "      <th>25%</th>\n",
       "      <td>2.000000e+00</td>\n",
       "      <td>1.310000e+02</td>\n",
       "      <td>1.390000e+02</td>\n",
       "      <td>1.260000e+02</td>\n",
       "      <td>1.310000e+02</td>\n",
       "      <td>1.320000e+02</td>\n",
       "      <td>0.000000e+00</td>\n",
       "      <td>0.000000e+00</td>\n",
       "      <td>2.000000e+00</td>\n",
       "      <td>1.000000e+03</td>\n",
       "      <td>2.170000e+05</td>\n",
       "      <td>0.000000e+00</td>\n",
       "      <td>0.000000e+00</td>\n",
       "      <td>2.018032e+07</td>\n",
       "      <td>1.000000e+00</td>\n",
       "      <td>0.000000e+00</td>\n",
       "      <td>1.050000e+02</td>\n",
       "    </tr>\n",
       "    <tr>\n",
       "      <th>50%</th>\n",
       "      <td>6.200000e+01</td>\n",
       "      <td>8.700000e+02</td>\n",
       "      <td>8.890000e+02</td>\n",
       "      <td>8.540000e+02</td>\n",
       "      <td>8.700000e+02</td>\n",
       "      <td>8.700000e+02</td>\n",
       "      <td>4.500000e+01</td>\n",
       "      <td>3.600000e+01</td>\n",
       "      <td>5.000000e+00</td>\n",
       "      <td>1.400000e+04</td>\n",
       "      <td>2.496500e+06</td>\n",
       "      <td>0.000000e+00</td>\n",
       "      <td>0.000000e+00</td>\n",
       "      <td>9.999123e+07</td>\n",
       "      <td>1.000000e+00</td>\n",
       "      <td>0.000000e+00</td>\n",
       "      <td>1.220000e+02</td>\n",
       "    </tr>\n",
       "    <tr>\n",
       "      <th>75%</th>\n",
       "      <td>8.200000e+01</td>\n",
       "      <td>3.500000e+03</td>\n",
       "      <td>3.523000e+03</td>\n",
       "      <td>3.446000e+03</td>\n",
       "      <td>3.493000e+03</td>\n",
       "      <td>3.500000e+03</td>\n",
       "      <td>1.260000e+03</td>\n",
       "      <td>1.223000e+03</td>\n",
       "      <td>2.400000e+01</td>\n",
       "      <td>3.000000e+05</td>\n",
       "      <td>2.877314e+07</td>\n",
       "      <td>3.900000e+02</td>\n",
       "      <td>0.000000e+00</td>\n",
       "      <td>9.999123e+07</td>\n",
       "      <td>1.000000e+03</td>\n",
       "      <td>0.000000e+00</td>\n",
       "      <td>1.580000e+02</td>\n",
       "    </tr>\n",
       "    <tr>\n",
       "      <th>max</th>\n",
       "      <td>9.600000e+01</td>\n",
       "      <td>2.744843e+10</td>\n",
       "      <td>2.744843e+10</td>\n",
       "      <td>2.744843e+10</td>\n",
       "      <td>2.744843e+10</td>\n",
       "      <td>2.744843e+10</td>\n",
       "      <td>1.000000e+09</td>\n",
       "      <td>7.000001e+10</td>\n",
       "      <td>9.978700e+04</td>\n",
       "      <td>1.000000e+12</td>\n",
       "      <td>7.324050e+14</td>\n",
       "      <td>5.000000e+07</td>\n",
       "      <td>9.000000e+00</td>\n",
       "      <td>9.999123e+07</td>\n",
       "      <td>1.000000e+06</td>\n",
       "      <td>1.160000e+11</td>\n",
       "      <td>6.790000e+02</td>\n",
       "    </tr>\n",
       "  </tbody>\n",
       "</table>\n",
       "</div>"
      ],
      "text/plain": [
       "             CODBDI        PREABE        PREMAX        PREMIN        PREMED  \\\n",
       "count  7.001521e+06  7.001521e+06  7.001521e+06  7.001521e+06  7.001521e+06   \n",
       "mean   5.235243e+01  9.456642e+04  9.643617e+04  9.360442e+04  9.530297e+04   \n",
       "std    3.921134e+01  1.298649e+07  1.300694e+07  1.298020e+07  1.300562e+07   \n",
       "min    2.000000e+00  0.000000e+00  0.000000e+00  0.000000e+00  0.000000e+00   \n",
       "25%    2.000000e+00  1.310000e+02  1.390000e+02  1.260000e+02  1.310000e+02   \n",
       "50%    6.200000e+01  8.700000e+02  8.890000e+02  8.540000e+02  8.700000e+02   \n",
       "75%    8.200000e+01  3.500000e+03  3.523000e+03  3.446000e+03  3.493000e+03   \n",
       "max    9.600000e+01  2.744843e+10  2.744843e+10  2.744843e+10  2.744843e+10   \n",
       "\n",
       "             PREULT        PREOFC        PREOFV        TOTNEG        QUATOT  \\\n",
       "count  7.001521e+06  7.001521e+06  7.001521e+06  7.001521e+06  7.001521e+06   \n",
       "mean   9.535259e+04  2.404831e+04  3.698358e+04  2.877786e+02  3.254411e+07   \n",
       "std    1.299963e+07  2.095357e+06  2.653772e+07  1.820258e+03  7.757119e+08   \n",
       "min    0.000000e+00  0.000000e+00  0.000000e+00  1.000000e+00  1.000000e+00   \n",
       "25%    1.320000e+02  0.000000e+00  0.000000e+00  2.000000e+00  1.000000e+03   \n",
       "50%    8.700000e+02  4.500000e+01  3.600000e+01  5.000000e+00  1.400000e+04   \n",
       "75%    3.500000e+03  1.260000e+03  1.223000e+03  2.400000e+01  3.000000e+05   \n",
       "max    2.744843e+10  1.000000e+09  7.000001e+10  9.978700e+04  1.000000e+12   \n",
       "\n",
       "             VOLTOT        PREEXE        INDOPC        DATVEN        FATCOT  \\\n",
       "count  7.001521e+06  7.001521e+06  7.001521e+06  7.001521e+06  7.001521e+06   \n",
       "mean   1.015286e+10  8.830063e+04  1.038246e-02  7.893999e+07  2.593313e+02   \n",
       "std    1.119038e+12  7.131223e+05  2.530011e-01  3.518612e+07  2.063589e+03   \n",
       "min    0.000000e+00  0.000000e+00  0.000000e+00  1.986022e+07  0.000000e+00   \n",
       "25%    2.170000e+05  0.000000e+00  0.000000e+00  2.018032e+07  1.000000e+00   \n",
       "50%    2.496500e+06  0.000000e+00  0.000000e+00  9.999123e+07  1.000000e+00   \n",
       "75%    2.877314e+07  3.900000e+02  0.000000e+00  9.999123e+07  1.000000e+03   \n",
       "max    7.324050e+14  5.000000e+07  9.000000e+00  9.999123e+07  1.000000e+06   \n",
       "\n",
       "             PTOEXE        DISMES  \n",
       "count  7.001521e+06  7.001521e+06  \n",
       "mean   8.648413e+08  1.376429e+02  \n",
       "std    7.039705e+09  8.376915e+01  \n",
       "min    0.000000e+00  0.000000e+00  \n",
       "25%    0.000000e+00  1.050000e+02  \n",
       "50%    0.000000e+00  1.220000e+02  \n",
       "75%    0.000000e+00  1.580000e+02  \n",
       "max    1.160000e+11  6.790000e+02  "
      ]
     },
     "execution_count": 8,
     "metadata": {},
     "output_type": "execute_result"
    }
   ],
   "source": [
    "dados_completos.describe()"
   ]
  },
  {
   "cell_type": "code",
   "execution_count": 9,
   "metadata": {},
   "outputs": [
    {
     "data": {
      "text/html": [
       "<div>\n",
       "<style scoped>\n",
       "    .dataframe tbody tr th:only-of-type {\n",
       "        vertical-align: middle;\n",
       "    }\n",
       "\n",
       "    .dataframe tbody tr th {\n",
       "        vertical-align: top;\n",
       "    }\n",
       "\n",
       "    .dataframe thead th {\n",
       "        text-align: right;\n",
       "    }\n",
       "</style>\n",
       "<table border=\"1\" class=\"dataframe\">\n",
       "  <thead>\n",
       "    <tr style=\"text-align: right;\">\n",
       "      <th></th>\n",
       "      <th>TIPO</th>\n",
       "      <th>DATA</th>\n",
       "      <th>CODBDI</th>\n",
       "      <th>CODNEG</th>\n",
       "      <th>TPMERC</th>\n",
       "      <th>NOMRES</th>\n",
       "      <th>ESPECI</th>\n",
       "      <th>PRAZOT</th>\n",
       "      <th>MODREF</th>\n",
       "      <th>PREABE</th>\n",
       "      <th>...</th>\n",
       "      <th>TOTNEG</th>\n",
       "      <th>QUATOT</th>\n",
       "      <th>VOLTOT</th>\n",
       "      <th>PREEXE</th>\n",
       "      <th>INDOPC</th>\n",
       "      <th>DATVEN</th>\n",
       "      <th>FATCOT</th>\n",
       "      <th>PTOEXE</th>\n",
       "      <th>CODISI</th>\n",
       "      <th>DISMES</th>\n",
       "    </tr>\n",
       "  </thead>\n",
       "  <tbody>\n",
       "    <tr>\n",
       "      <th>0</th>\n",
       "      <td>1</td>\n",
       "      <td>19880104</td>\n",
       "      <td>2.0</td>\n",
       "      <td>ABC 6</td>\n",
       "      <td>10</td>\n",
       "      <td>ABC XTAL</td>\n",
       "      <td>PPA</td>\n",
       "      <td>NaN</td>\n",
       "      <td>CZ$</td>\n",
       "      <td>225.0</td>\n",
       "      <td>...</td>\n",
       "      <td>2.0</td>\n",
       "      <td>3000.0</td>\n",
       "      <td>685000.0</td>\n",
       "      <td>0.0</td>\n",
       "      <td>0.0</td>\n",
       "      <td>99991231.0</td>\n",
       "      <td>1.0</td>\n",
       "      <td>0.0</td>\n",
       "      <td>ABCXACPPA</td>\n",
       "      <td>101.0</td>\n",
       "    </tr>\n",
       "    <tr>\n",
       "      <th>1</th>\n",
       "      <td>1</td>\n",
       "      <td>19880104</td>\n",
       "      <td>2.0</td>\n",
       "      <td>ACE 2</td>\n",
       "      <td>10</td>\n",
       "      <td>ACESITA</td>\n",
       "      <td>PP  C01</td>\n",
       "      <td>NaN</td>\n",
       "      <td>CZ$</td>\n",
       "      <td>440.0</td>\n",
       "      <td>...</td>\n",
       "      <td>1.0</td>\n",
       "      <td>400.0</td>\n",
       "      <td>176000.0</td>\n",
       "      <td>0.0</td>\n",
       "      <td>0.0</td>\n",
       "      <td>99991231.0</td>\n",
       "      <td>1.0</td>\n",
       "      <td>0.0</td>\n",
       "      <td>ACESACPP</td>\n",
       "      <td>114.0</td>\n",
       "    </tr>\n",
       "    <tr>\n",
       "      <th>2</th>\n",
       "      <td>1</td>\n",
       "      <td>19880104</td>\n",
       "      <td>2.0</td>\n",
       "      <td>EAL 2</td>\n",
       "      <td>10</td>\n",
       "      <td>ACO ALTONA</td>\n",
       "      <td>PP</td>\n",
       "      <td>NaN</td>\n",
       "      <td>CZ$</td>\n",
       "      <td>863.0</td>\n",
       "      <td>...</td>\n",
       "      <td>8.0</td>\n",
       "      <td>33100.0</td>\n",
       "      <td>29863800.0</td>\n",
       "      <td>0.0</td>\n",
       "      <td>0.0</td>\n",
       "      <td>99991231.0</td>\n",
       "      <td>1.0</td>\n",
       "      <td>0.0</td>\n",
       "      <td>EALTACPP</td>\n",
       "      <td>117.0</td>\n",
       "    </tr>\n",
       "    <tr>\n",
       "      <th>3</th>\n",
       "      <td>1</td>\n",
       "      <td>19880104</td>\n",
       "      <td>2.0</td>\n",
       "      <td>AVI 2</td>\n",
       "      <td>10</td>\n",
       "      <td>ACOS VILL</td>\n",
       "      <td>PP  C42</td>\n",
       "      <td>NaN</td>\n",
       "      <td>CZ$</td>\n",
       "      <td>330.0</td>\n",
       "      <td>...</td>\n",
       "      <td>12.0</td>\n",
       "      <td>112700.0</td>\n",
       "      <td>37149000.0</td>\n",
       "      <td>0.0</td>\n",
       "      <td>0.0</td>\n",
       "      <td>99991231.0</td>\n",
       "      <td>1.0</td>\n",
       "      <td>0.0</td>\n",
       "      <td>AVILACPP</td>\n",
       "      <td>140.0</td>\n",
       "    </tr>\n",
       "    <tr>\n",
       "      <th>4</th>\n",
       "      <td>1</td>\n",
       "      <td>19880104</td>\n",
       "      <td>2.0</td>\n",
       "      <td>CRA 2</td>\n",
       "      <td>10</td>\n",
       "      <td>ADUBOS CRA</td>\n",
       "      <td>PP  C31</td>\n",
       "      <td>NaN</td>\n",
       "      <td>CZ$</td>\n",
       "      <td>90.0</td>\n",
       "      <td>...</td>\n",
       "      <td>1.0</td>\n",
       "      <td>10000.0</td>\n",
       "      <td>900000.0</td>\n",
       "      <td>0.0</td>\n",
       "      <td>0.0</td>\n",
       "      <td>99991231.0</td>\n",
       "      <td>1.0</td>\n",
       "      <td>0.0</td>\n",
       "      <td>CRADACPP</td>\n",
       "      <td>121.0</td>\n",
       "    </tr>\n",
       "  </tbody>\n",
       "</table>\n",
       "<p>5 rows × 26 columns</p>\n",
       "</div>"
      ],
      "text/plain": [
       "  TIPO      DATA  CODBDI CODNEG TPMERC      NOMRES   ESPECI PRAZOT MODREF  \\\n",
       "0    1  19880104     2.0  ABC 6     10    ABC XTAL      PPA    NaN    CZ$   \n",
       "1    1  19880104     2.0  ACE 2     10     ACESITA  PP  C01    NaN    CZ$   \n",
       "2    1  19880104     2.0  EAL 2     10  ACO ALTONA       PP    NaN    CZ$   \n",
       "3    1  19880104     2.0  AVI 2     10   ACOS VILL  PP  C42    NaN    CZ$   \n",
       "4    1  19880104     2.0  CRA 2     10  ADUBOS CRA  PP  C31    NaN    CZ$   \n",
       "\n",
       "   PREABE   ...    TOTNEG    QUATOT      VOLTOT  PREEXE  INDOPC      DATVEN  \\\n",
       "0   225.0   ...       2.0    3000.0    685000.0     0.0     0.0  99991231.0   \n",
       "1   440.0   ...       1.0     400.0    176000.0     0.0     0.0  99991231.0   \n",
       "2   863.0   ...       8.0   33100.0  29863800.0     0.0     0.0  99991231.0   \n",
       "3   330.0   ...      12.0  112700.0  37149000.0     0.0     0.0  99991231.0   \n",
       "4    90.0   ...       1.0   10000.0    900000.0     0.0     0.0  99991231.0   \n",
       "\n",
       "   FATCOT  PTOEXE     CODISI  DISMES  \n",
       "0     1.0     0.0  ABCXACPPA   101.0  \n",
       "1     1.0     0.0   ACESACPP   114.0  \n",
       "2     1.0     0.0   EALTACPP   117.0  \n",
       "3     1.0     0.0   AVILACPP   140.0  \n",
       "4     1.0     0.0   CRADACPP   121.0  \n",
       "\n",
       "[5 rows x 26 columns]"
      ]
     },
     "execution_count": 9,
     "metadata": {},
     "output_type": "execute_result"
    }
   ],
   "source": [
    "dados_completos.head()"
   ]
  },
  {
   "cell_type": "markdown",
   "metadata": {},
   "source": [
    "##### Verificando quais anos estão presentes no conjunto de dados"
   ]
  },
  {
   "cell_type": "code",
   "execution_count": 10,
   "metadata": {},
   "outputs": [
    {
     "data": {
      "text/plain": [
       "array(['1986', '1987', '1988', '1989', '1990', '1991', '1992', '1993',\n",
       "       '1994', '1995', '1996', '1997', '1998', '1999', '2000', '2001',\n",
       "       '2002', '2003', '2004', '2005', '2006', '2007', '2008', '2009',\n",
       "       '2010', '2011', '2012', '2013', '2014', '2015', '2016', '2017',\n",
       "       '2018'], dtype=object)"
      ]
     },
     "execution_count": 10,
     "metadata": {},
     "output_type": "execute_result"
    }
   ],
   "source": [
    "anos = dados_completos.DATA.str[:4].unique()\n",
    "anos.sort() # ordenar\n",
    "anos"
   ]
  },
  {
   "cell_type": "markdown",
   "metadata": {},
   "source": [
    "##### Salvando os dados em CSV"
   ]
  },
  {
   "cell_type": "code",
   "execution_count": 11,
   "metadata": {},
   "outputs": [],
   "source": [
    "dados_completos.to_csv('../dados/historico_acoes.csv', index=False)"
   ]
  },
  {
   "cell_type": "markdown",
   "metadata": {},
   "source": [
    "##### Verificando qual é a última semana de dados que estão presente no dataset"
   ]
  },
  {
   "cell_type": "code",
   "execution_count": 12,
   "metadata": {},
   "outputs": [
    {
     "data": {
      "text/plain": [
       "array(['20180524', '20180525', '20180528', '20180529', '20180530'], dtype=object)"
      ]
     },
     "execution_count": 12,
     "metadata": {},
     "output_type": "execute_result"
    }
   ],
   "source": [
    "t = dados_completos.loc[dados_completos['DATA'].str[:4] == '2018', 'DATA'].unique()\n",
    "t[-5:]"
   ]
  }
 ],
 "metadata": {
  "kernelspec": {
   "display_name": "Python 3",
   "language": "python",
   "name": "python3"
  },
  "language_info": {
   "codemirror_mode": {
    "name": "ipython",
    "version": 3
   },
   "file_extension": ".py",
   "mimetype": "text/x-python",
   "name": "python",
   "nbconvert_exporter": "python",
   "pygments_lexer": "ipython3",
   "version": "3.6.4"
  }
 },
 "nbformat": 4,
 "nbformat_minor": 2
}
